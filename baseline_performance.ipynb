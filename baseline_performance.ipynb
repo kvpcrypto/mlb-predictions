{
 "cells": [
  {
   "cell_type": "markdown",
   "id": "47548df3-d52b-4452-8d9e-86d06b03b590",
   "metadata": {},
   "source": [
    "# MLB Predictions"
   ]
  },
  {
   "cell_type": "code",
   "execution_count": 1,
   "id": "7f368d7e-be1f-490f-9879-fae9da918ace",
   "metadata": {},
   "outputs": [],
   "source": [
    "#import required modules\n",
    "import pandas as pd\n",
    "import numpy as np\n",
    "from pathlib import Path\n",
    "from sklearn.model_selection import train_test_split\n",
    "from sklearn.preprocessing import StandardScaler\n",
    "from sklearn.linear_model import LogisticRegression\n",
    "from xgboost import XGBClassifier\n",
    "from sklearn.metrics import balanced_accuracy_score\n",
    "from sklearn.metrics import accuracy_score, precision_score, recall_score\n",
    "from sklearn.metrics import confusion_matrix\n",
    "from sklearn.metrics import classification_report\n",
    "import matplotlib.pyplot as plt\n",
    "import warnings\n",
    "warnings.filterwarnings('ignore')"
   ]
  },
  {
   "cell_type": "markdown",
   "id": "b20c58af-34da-4dcb-be5a-d77178917b26",
   "metadata": {},
   "source": [
    "## Import Mariners 2022 Season Data"
   ]
  },
  {
   "cell_type": "code",
   "execution_count": 2,
   "id": "bd617283-e9ef-4e9c-b7e1-279ca7135c72",
   "metadata": {},
   "outputs": [],
   "source": [
    "#load Mariners' dataset to feed into model\n",
    "X = pd.read_csv(\n",
    "    Path('./Resources/mariners_2022_X.csv'),\n",
    "    index_col=[0],\n",
    ")\n",
    "\n",
    "y = pd.read_csv(\n",
    "    Path('./Resources/mariners_2022_y.csv'),\n",
    "    index_col=[0],\n",
    ")"
   ]
  },
  {
   "cell_type": "code",
   "execution_count": 3,
   "id": "52bbaa85-4759-4f46-a3b1-3b9f69a410ae",
   "metadata": {},
   "outputs": [
    {
     "data": {
      "text/html": [
       "<div>\n",
       "<style scoped>\n",
       "    .dataframe tbody tr th:only-of-type {\n",
       "        vertical-align: middle;\n",
       "    }\n",
       "\n",
       "    .dataframe tbody tr th {\n",
       "        vertical-align: top;\n",
       "    }\n",
       "\n",
       "    .dataframe thead th {\n",
       "        text-align: right;\n",
       "    }\n",
       "</style>\n",
       "<table border=\"1\" class=\"dataframe\">\n",
       "  <thead>\n",
       "    <tr style=\"text-align: right;\">\n",
       "      <th></th>\n",
       "      <th>Rank</th>\n",
       "      <th>Home_Away_@</th>\n",
       "      <th>Home_Away_Home</th>\n",
       "      <th>Opp_ATL</th>\n",
       "      <th>Opp_BAL</th>\n",
       "      <th>Opp_BOS</th>\n",
       "      <th>Opp_CHW</th>\n",
       "      <th>Opp_CLE</th>\n",
       "      <th>Opp_DET</th>\n",
       "      <th>Opp_HOU</th>\n",
       "      <th>...</th>\n",
       "      <th>Opp_NYY</th>\n",
       "      <th>Opp_OAK</th>\n",
       "      <th>Opp_PHI</th>\n",
       "      <th>Opp_SDP</th>\n",
       "      <th>Opp_TBR</th>\n",
       "      <th>Opp_TEX</th>\n",
       "      <th>Opp_TOR</th>\n",
       "      <th>Opp_WSN</th>\n",
       "      <th>D/N_D</th>\n",
       "      <th>D/N_N</th>\n",
       "    </tr>\n",
       "  </thead>\n",
       "  <tbody>\n",
       "    <tr>\n",
       "      <th>1</th>\n",
       "      <td>2.0</td>\n",
       "      <td>1.0</td>\n",
       "      <td>0.0</td>\n",
       "      <td>0.0</td>\n",
       "      <td>0.0</td>\n",
       "      <td>0.0</td>\n",
       "      <td>0.0</td>\n",
       "      <td>0.0</td>\n",
       "      <td>0.0</td>\n",
       "      <td>0.0</td>\n",
       "      <td>...</td>\n",
       "      <td>0.0</td>\n",
       "      <td>0.0</td>\n",
       "      <td>0.0</td>\n",
       "      <td>0.0</td>\n",
       "      <td>0.0</td>\n",
       "      <td>0.0</td>\n",
       "      <td>0.0</td>\n",
       "      <td>0.0</td>\n",
       "      <td>1.0</td>\n",
       "      <td>0.0</td>\n",
       "    </tr>\n",
       "    <tr>\n",
       "      <th>2</th>\n",
       "      <td>1.0</td>\n",
       "      <td>1.0</td>\n",
       "      <td>0.0</td>\n",
       "      <td>0.0</td>\n",
       "      <td>0.0</td>\n",
       "      <td>0.0</td>\n",
       "      <td>0.0</td>\n",
       "      <td>0.0</td>\n",
       "      <td>0.0</td>\n",
       "      <td>0.0</td>\n",
       "      <td>...</td>\n",
       "      <td>0.0</td>\n",
       "      <td>0.0</td>\n",
       "      <td>0.0</td>\n",
       "      <td>0.0</td>\n",
       "      <td>0.0</td>\n",
       "      <td>0.0</td>\n",
       "      <td>0.0</td>\n",
       "      <td>0.0</td>\n",
       "      <td>1.0</td>\n",
       "      <td>0.0</td>\n",
       "    </tr>\n",
       "    <tr>\n",
       "      <th>3</th>\n",
       "      <td>2.0</td>\n",
       "      <td>1.0</td>\n",
       "      <td>0.0</td>\n",
       "      <td>0.0</td>\n",
       "      <td>0.0</td>\n",
       "      <td>0.0</td>\n",
       "      <td>0.0</td>\n",
       "      <td>0.0</td>\n",
       "      <td>0.0</td>\n",
       "      <td>0.0</td>\n",
       "      <td>...</td>\n",
       "      <td>0.0</td>\n",
       "      <td>0.0</td>\n",
       "      <td>0.0</td>\n",
       "      <td>0.0</td>\n",
       "      <td>0.0</td>\n",
       "      <td>0.0</td>\n",
       "      <td>0.0</td>\n",
       "      <td>0.0</td>\n",
       "      <td>1.0</td>\n",
       "      <td>0.0</td>\n",
       "    </tr>\n",
       "    <tr>\n",
       "      <th>4</th>\n",
       "      <td>2.0</td>\n",
       "      <td>1.0</td>\n",
       "      <td>0.0</td>\n",
       "      <td>0.0</td>\n",
       "      <td>0.0</td>\n",
       "      <td>0.0</td>\n",
       "      <td>0.0</td>\n",
       "      <td>0.0</td>\n",
       "      <td>0.0</td>\n",
       "      <td>0.0</td>\n",
       "      <td>...</td>\n",
       "      <td>0.0</td>\n",
       "      <td>0.0</td>\n",
       "      <td>0.0</td>\n",
       "      <td>0.0</td>\n",
       "      <td>0.0</td>\n",
       "      <td>0.0</td>\n",
       "      <td>0.0</td>\n",
       "      <td>0.0</td>\n",
       "      <td>0.0</td>\n",
       "      <td>1.0</td>\n",
       "    </tr>\n",
       "    <tr>\n",
       "      <th>5</th>\n",
       "      <td>3.0</td>\n",
       "      <td>1.0</td>\n",
       "      <td>0.0</td>\n",
       "      <td>0.0</td>\n",
       "      <td>0.0</td>\n",
       "      <td>0.0</td>\n",
       "      <td>1.0</td>\n",
       "      <td>0.0</td>\n",
       "      <td>0.0</td>\n",
       "      <td>0.0</td>\n",
       "      <td>...</td>\n",
       "      <td>0.0</td>\n",
       "      <td>0.0</td>\n",
       "      <td>0.0</td>\n",
       "      <td>0.0</td>\n",
       "      <td>0.0</td>\n",
       "      <td>0.0</td>\n",
       "      <td>0.0</td>\n",
       "      <td>0.0</td>\n",
       "      <td>1.0</td>\n",
       "      <td>0.0</td>\n",
       "    </tr>\n",
       "    <tr>\n",
       "      <th>...</th>\n",
       "      <td>...</td>\n",
       "      <td>...</td>\n",
       "      <td>...</td>\n",
       "      <td>...</td>\n",
       "      <td>...</td>\n",
       "      <td>...</td>\n",
       "      <td>...</td>\n",
       "      <td>...</td>\n",
       "      <td>...</td>\n",
       "      <td>...</td>\n",
       "      <td>...</td>\n",
       "      <td>...</td>\n",
       "      <td>...</td>\n",
       "      <td>...</td>\n",
       "      <td>...</td>\n",
       "      <td>...</td>\n",
       "      <td>...</td>\n",
       "      <td>...</td>\n",
       "      <td>...</td>\n",
       "      <td>...</td>\n",
       "      <td>...</td>\n",
       "    </tr>\n",
       "    <tr>\n",
       "      <th>158</th>\n",
       "      <td>2.0</td>\n",
       "      <td>0.0</td>\n",
       "      <td>1.0</td>\n",
       "      <td>0.0</td>\n",
       "      <td>0.0</td>\n",
       "      <td>0.0</td>\n",
       "      <td>0.0</td>\n",
       "      <td>0.0</td>\n",
       "      <td>0.0</td>\n",
       "      <td>0.0</td>\n",
       "      <td>...</td>\n",
       "      <td>0.0</td>\n",
       "      <td>1.0</td>\n",
       "      <td>0.0</td>\n",
       "      <td>0.0</td>\n",
       "      <td>0.0</td>\n",
       "      <td>0.0</td>\n",
       "      <td>0.0</td>\n",
       "      <td>0.0</td>\n",
       "      <td>1.0</td>\n",
       "      <td>0.0</td>\n",
       "    </tr>\n",
       "    <tr>\n",
       "      <th>159</th>\n",
       "      <td>2.0</td>\n",
       "      <td>0.0</td>\n",
       "      <td>1.0</td>\n",
       "      <td>0.0</td>\n",
       "      <td>0.0</td>\n",
       "      <td>0.0</td>\n",
       "      <td>0.0</td>\n",
       "      <td>0.0</td>\n",
       "      <td>1.0</td>\n",
       "      <td>0.0</td>\n",
       "      <td>...</td>\n",
       "      <td>0.0</td>\n",
       "      <td>0.0</td>\n",
       "      <td>0.0</td>\n",
       "      <td>0.0</td>\n",
       "      <td>0.0</td>\n",
       "      <td>0.0</td>\n",
       "      <td>0.0</td>\n",
       "      <td>0.0</td>\n",
       "      <td>0.0</td>\n",
       "      <td>1.0</td>\n",
       "    </tr>\n",
       "    <tr>\n",
       "      <th>160</th>\n",
       "      <td>2.0</td>\n",
       "      <td>0.0</td>\n",
       "      <td>1.0</td>\n",
       "      <td>0.0</td>\n",
       "      <td>0.0</td>\n",
       "      <td>0.0</td>\n",
       "      <td>0.0</td>\n",
       "      <td>0.0</td>\n",
       "      <td>1.0</td>\n",
       "      <td>0.0</td>\n",
       "      <td>...</td>\n",
       "      <td>0.0</td>\n",
       "      <td>0.0</td>\n",
       "      <td>0.0</td>\n",
       "      <td>0.0</td>\n",
       "      <td>0.0</td>\n",
       "      <td>0.0</td>\n",
       "      <td>0.0</td>\n",
       "      <td>0.0</td>\n",
       "      <td>1.0</td>\n",
       "      <td>0.0</td>\n",
       "    </tr>\n",
       "    <tr>\n",
       "      <th>161</th>\n",
       "      <td>2.0</td>\n",
       "      <td>0.0</td>\n",
       "      <td>1.0</td>\n",
       "      <td>0.0</td>\n",
       "      <td>0.0</td>\n",
       "      <td>0.0</td>\n",
       "      <td>0.0</td>\n",
       "      <td>0.0</td>\n",
       "      <td>1.0</td>\n",
       "      <td>0.0</td>\n",
       "      <td>...</td>\n",
       "      <td>0.0</td>\n",
       "      <td>0.0</td>\n",
       "      <td>0.0</td>\n",
       "      <td>0.0</td>\n",
       "      <td>0.0</td>\n",
       "      <td>0.0</td>\n",
       "      <td>0.0</td>\n",
       "      <td>0.0</td>\n",
       "      <td>1.0</td>\n",
       "      <td>0.0</td>\n",
       "    </tr>\n",
       "    <tr>\n",
       "      <th>162</th>\n",
       "      <td>2.0</td>\n",
       "      <td>0.0</td>\n",
       "      <td>1.0</td>\n",
       "      <td>0.0</td>\n",
       "      <td>0.0</td>\n",
       "      <td>0.0</td>\n",
       "      <td>0.0</td>\n",
       "      <td>0.0</td>\n",
       "      <td>1.0</td>\n",
       "      <td>0.0</td>\n",
       "      <td>...</td>\n",
       "      <td>0.0</td>\n",
       "      <td>0.0</td>\n",
       "      <td>0.0</td>\n",
       "      <td>0.0</td>\n",
       "      <td>0.0</td>\n",
       "      <td>0.0</td>\n",
       "      <td>0.0</td>\n",
       "      <td>0.0</td>\n",
       "      <td>1.0</td>\n",
       "      <td>0.0</td>\n",
       "    </tr>\n",
       "  </tbody>\n",
       "</table>\n",
       "<p>162 rows × 25 columns</p>\n",
       "</div>"
      ],
      "text/plain": [
       "     Rank  Home_Away_@  Home_Away_Home  Opp_ATL  Opp_BAL  Opp_BOS  Opp_CHW  \\\n",
       "1     2.0          1.0             0.0      0.0      0.0      0.0      0.0   \n",
       "2     1.0          1.0             0.0      0.0      0.0      0.0      0.0   \n",
       "3     2.0          1.0             0.0      0.0      0.0      0.0      0.0   \n",
       "4     2.0          1.0             0.0      0.0      0.0      0.0      0.0   \n",
       "5     3.0          1.0             0.0      0.0      0.0      0.0      1.0   \n",
       "..    ...          ...             ...      ...      ...      ...      ...   \n",
       "158   2.0          0.0             1.0      0.0      0.0      0.0      0.0   \n",
       "159   2.0          0.0             1.0      0.0      0.0      0.0      0.0   \n",
       "160   2.0          0.0             1.0      0.0      0.0      0.0      0.0   \n",
       "161   2.0          0.0             1.0      0.0      0.0      0.0      0.0   \n",
       "162   2.0          0.0             1.0      0.0      0.0      0.0      0.0   \n",
       "\n",
       "     Opp_CLE  Opp_DET  Opp_HOU  ...  Opp_NYY  Opp_OAK  Opp_PHI  Opp_SDP  \\\n",
       "1        0.0      0.0      0.0  ...      0.0      0.0      0.0      0.0   \n",
       "2        0.0      0.0      0.0  ...      0.0      0.0      0.0      0.0   \n",
       "3        0.0      0.0      0.0  ...      0.0      0.0      0.0      0.0   \n",
       "4        0.0      0.0      0.0  ...      0.0      0.0      0.0      0.0   \n",
       "5        0.0      0.0      0.0  ...      0.0      0.0      0.0      0.0   \n",
       "..       ...      ...      ...  ...      ...      ...      ...      ...   \n",
       "158      0.0      0.0      0.0  ...      0.0      1.0      0.0      0.0   \n",
       "159      0.0      1.0      0.0  ...      0.0      0.0      0.0      0.0   \n",
       "160      0.0      1.0      0.0  ...      0.0      0.0      0.0      0.0   \n",
       "161      0.0      1.0      0.0  ...      0.0      0.0      0.0      0.0   \n",
       "162      0.0      1.0      0.0  ...      0.0      0.0      0.0      0.0   \n",
       "\n",
       "     Opp_TBR  Opp_TEX  Opp_TOR  Opp_WSN  D/N_D  D/N_N  \n",
       "1        0.0      0.0      0.0      0.0    1.0    0.0  \n",
       "2        0.0      0.0      0.0      0.0    1.0    0.0  \n",
       "3        0.0      0.0      0.0      0.0    1.0    0.0  \n",
       "4        0.0      0.0      0.0      0.0    0.0    1.0  \n",
       "5        0.0      0.0      0.0      0.0    1.0    0.0  \n",
       "..       ...      ...      ...      ...    ...    ...  \n",
       "158      0.0      0.0      0.0      0.0    1.0    0.0  \n",
       "159      0.0      0.0      0.0      0.0    0.0    1.0  \n",
       "160      0.0      0.0      0.0      0.0    1.0    0.0  \n",
       "161      0.0      0.0      0.0      0.0    1.0    0.0  \n",
       "162      0.0      0.0      0.0      0.0    1.0    0.0  \n",
       "\n",
       "[162 rows x 25 columns]"
      ]
     },
     "metadata": {},
     "output_type": "display_data"
    },
    {
     "data": {
      "text/html": [
       "<div>\n",
       "<style scoped>\n",
       "    .dataframe tbody tr th:only-of-type {\n",
       "        vertical-align: middle;\n",
       "    }\n",
       "\n",
       "    .dataframe tbody tr th {\n",
       "        vertical-align: top;\n",
       "    }\n",
       "\n",
       "    .dataframe thead th {\n",
       "        text-align: right;\n",
       "    }\n",
       "</style>\n",
       "<table border=\"1\" class=\"dataframe\">\n",
       "  <thead>\n",
       "    <tr style=\"text-align: right;\">\n",
       "      <th></th>\n",
       "      <th>W/L</th>\n",
       "    </tr>\n",
       "  </thead>\n",
       "  <tbody>\n",
       "    <tr>\n",
       "      <th>1</th>\n",
       "      <td>1</td>\n",
       "    </tr>\n",
       "    <tr>\n",
       "      <th>2</th>\n",
       "      <td>1</td>\n",
       "    </tr>\n",
       "    <tr>\n",
       "      <th>3</th>\n",
       "      <td>0</td>\n",
       "    </tr>\n",
       "    <tr>\n",
       "      <th>4</th>\n",
       "      <td>0</td>\n",
       "    </tr>\n",
       "    <tr>\n",
       "      <th>5</th>\n",
       "      <td>0</td>\n",
       "    </tr>\n",
       "    <tr>\n",
       "      <th>...</th>\n",
       "      <td>...</td>\n",
       "    </tr>\n",
       "    <tr>\n",
       "      <th>158</th>\n",
       "      <td>0</td>\n",
       "    </tr>\n",
       "    <tr>\n",
       "      <th>159</th>\n",
       "      <td>0</td>\n",
       "    </tr>\n",
       "    <tr>\n",
       "      <th>160</th>\n",
       "      <td>1</td>\n",
       "    </tr>\n",
       "    <tr>\n",
       "      <th>161</th>\n",
       "      <td>1</td>\n",
       "    </tr>\n",
       "    <tr>\n",
       "      <th>162</th>\n",
       "      <td>1</td>\n",
       "    </tr>\n",
       "  </tbody>\n",
       "</table>\n",
       "<p>162 rows × 1 columns</p>\n",
       "</div>"
      ],
      "text/plain": [
       "     W/L\n",
       "1      1\n",
       "2      1\n",
       "3      0\n",
       "4      0\n",
       "5      0\n",
       "..   ...\n",
       "158    0\n",
       "159    0\n",
       "160    1\n",
       "161    1\n",
       "162    1\n",
       "\n",
       "[162 rows x 1 columns]"
      ]
     },
     "metadata": {},
     "output_type": "display_data"
    }
   ],
   "source": [
    "#Review dataframe\n",
    "display(X)\n",
    "display(y)"
   ]
  },
  {
   "cell_type": "markdown",
   "id": "e7a800e9-f436-4790-9248-77b9d7798120",
   "metadata": {},
   "source": [
    "## Split into Training and Testing Sets Using `train_test_split`"
   ]
  },
  {
   "cell_type": "code",
   "execution_count": 4,
   "id": "71f6f227-d336-43dc-a00a-34df3bf26598",
   "metadata": {},
   "outputs": [],
   "source": [
    "# split data using test_train_split w/ random_state=1 and default test size of 25%\n",
    "X_train, X_test, y_train, y_test = train_test_split(X, y, test_size=.25, random_state=1)"
   ]
  },
  {
   "cell_type": "code",
   "execution_count": 5,
   "id": "50ea17ba-7f07-426d-a3c1-a3a416c9efd4",
   "metadata": {},
   "outputs": [
    {
     "data": {
      "text/plain": [
       "W/L\n",
       "1      23\n",
       "0      18\n",
       "dtype: int64"
      ]
     },
     "execution_count": 5,
     "metadata": {},
     "output_type": "execute_result"
    }
   ],
   "source": [
    "#check target dataset for balance\n",
    "y_test.value_counts()"
   ]
  },
  {
   "cell_type": "markdown",
   "id": "3a1d8707-d464-43e1-ab15-e4205038582b",
   "metadata": {},
   "source": [
    "## Normalize Data Using StandardScaler"
   ]
  },
  {
   "cell_type": "code",
   "execution_count": 6,
   "id": "db71c992-5bc4-4e92-b6af-d8e63746a77d",
   "metadata": {},
   "outputs": [],
   "source": [
    "# Create the StandardScaler instance\n",
    "scaler = StandardScaler()"
   ]
  },
  {
   "cell_type": "code",
   "execution_count": 7,
   "id": "b472db7e-a124-4fb3-b146-0fcfda3c4696",
   "metadata": {},
   "outputs": [],
   "source": [
    "# Fit the scaler to the features training dataset\n",
    "X_scaler = scaler.fit(X_train)\n",
    "X_train_scaled = X_scaler.transform(X_train)\n",
    "X_test_scaled = X_scaler.transform(X_test)"
   ]
  },
  {
   "cell_type": "markdown",
   "id": "60a1cbee-4efd-45f4-9867-30a9c3cd4361",
   "metadata": {},
   "source": [
    "## Logistic Regression Model"
   ]
  },
  {
   "cell_type": "code",
   "execution_count": 8,
   "id": "7dd2b75e-58c5-46a3-ad11-48b762332e02",
   "metadata": {},
   "outputs": [],
   "source": [
    "# Instantiate the Logistic Regression Model w/ random_state = 1\n",
    "model = LogisticRegression(random_state=1)\n",
    "\n",
    "# Fit the model using training data\n",
    "lr_model = model.fit(X_train_scaled, y_train)"
   ]
  },
  {
   "cell_type": "code",
   "execution_count": 9,
   "id": "32dda533-b63c-4fe0-ae15-d6610f3d9e32",
   "metadata": {},
   "outputs": [],
   "source": [
    "# Make predictions using testing data\n",
    "y_pred = lr_model.predict(X_test_scaled)"
   ]
  },
  {
   "cell_type": "markdown",
   "id": "7ad7b2f2-2960-45a0-bf5e-54bc984ef2b0",
   "metadata": {},
   "source": [
    "### Evaluation Metrics"
   ]
  },
  {
   "cell_type": "code",
   "execution_count": 10,
   "id": "78cb0cdc-0b16-4964-b963-497ede9912b9",
   "metadata": {},
   "outputs": [
    {
     "name": "stdout",
     "output_type": "stream",
     "text": [
      "0.5640096618357487\n"
     ]
    }
   ],
   "source": [
    "#accuracy score\n",
    "print(balanced_accuracy_score(y_test, y_pred))"
   ]
  },
  {
   "cell_type": "code",
   "execution_count": 11,
   "id": "1c6f3951-df86-40d1-a9da-9254287ad980",
   "metadata": {},
   "outputs": [
    {
     "data": {
      "text/plain": [
       "array([[ 7, 11],\n",
       "       [ 6, 17]], dtype=int64)"
      ]
     },
     "execution_count": 11,
     "metadata": {},
     "output_type": "execute_result"
    }
   ],
   "source": [
    "# Generate confusion matrix\n",
    "confusion_matrix(y_test, y_pred)"
   ]
  },
  {
   "cell_type": "code",
   "execution_count": 12,
   "id": "7bc45c52-458c-4213-a0ca-6dd9425745de",
   "metadata": {},
   "outputs": [
    {
     "name": "stdout",
     "output_type": "stream",
     "text": [
      "True Positive(TP) =  17\n",
      "False Positive(FP) =  11\n",
      "True Negative(TN) =  7\n",
      "False Negative(FN) =  6\n"
     ]
    }
   ],
   "source": [
    "#print results of confusion matrix\n",
    "TN, FP, FN, TP = confusion_matrix(y_test, y_pred).ravel()\n",
    "print('True Positive(TP) = ', TP)\n",
    "print('False Positive(FP) = ', FP)\n",
    "print('True Negative(TN) = ', TN)\n",
    "print('False Negative(FN) = ', FN)"
   ]
  },
  {
   "cell_type": "code",
   "execution_count": 13,
   "id": "1d069548-044d-4721-9b72-b93ec8b0815a",
   "metadata": {},
   "outputs": [
    {
     "name": "stdout",
     "output_type": "stream",
     "text": [
      "              precision    recall  f1-score   support\n",
      "\n",
      "           0       0.54      0.39      0.45        18\n",
      "           1       0.61      0.74      0.67        23\n",
      "\n",
      "    accuracy                           0.59        41\n",
      "   macro avg       0.57      0.56      0.56        41\n",
      "weighted avg       0.58      0.59      0.57        41\n",
      "\n"
     ]
    }
   ],
   "source": [
    "# Generate classificaiton report\n",
    "print(classification_report(y_test, y_pred))"
   ]
  },
  {
   "cell_type": "markdown",
   "id": "3e013963-ebca-4218-ba10-b8eb786688fd",
   "metadata": {},
   "source": [
    "## XGBoost Model"
   ]
  },
  {
   "cell_type": "code",
   "execution_count": 14,
   "id": "6c980ab1-08c6-4d62-bcaf-215e68acb5f3",
   "metadata": {},
   "outputs": [],
   "source": [
    "# Instantiate XGBoost Model w/ random_state = 1\n",
    "model = XGBClassifier(random_state=1)"
   ]
  },
  {
   "cell_type": "code",
   "execution_count": 15,
   "id": "6d194f33-b443-4a0c-bc89-da360d6b89cf",
   "metadata": {},
   "outputs": [
    {
     "name": "stdout",
     "output_type": "stream",
     "text": [
      "[16:06:40] WARNING: C:\\Windows\\Temp\\abs_557yfx631l\\croots\\recipe\\xgboost-split_1659548953302\\work\\src\\learner.cc:1115: Starting in XGBoost 1.3.0, the default evaluation metric used with the objective 'binary:logistic' was changed from 'error' to 'logloss'. Explicitly set eval_metric if you'd like to restore the old behavior.\n"
     ]
    }
   ],
   "source": [
    "# Fit the model using the scaled training data\n",
    "XGBModel = model.fit(X_train_scaled, y_train)"
   ]
  },
  {
   "cell_type": "code",
   "execution_count": 16,
   "id": "b6fa4182-212c-4996-9e3d-0208267093be",
   "metadata": {},
   "outputs": [],
   "source": [
    "# Make predictions for test data\n",
    "y_pred = XGBModel.predict(X_test_scaled)\n",
    "\n",
    "# convert prediction percentages to binary\n",
    "predictions = [round(value) for value in y_pred]"
   ]
  },
  {
   "cell_type": "markdown",
   "id": "e91e96be-ce96-4f6f-b27f-5388d6544be2",
   "metadata": {},
   "source": [
    "### Evaluation Metrics"
   ]
  },
  {
   "cell_type": "code",
   "execution_count": 17,
   "id": "ed9c7142-0427-40fb-aad1-4ae7209bc275",
   "metadata": {},
   "outputs": [
    {
     "data": {
      "text/plain": [
       "0.5483091787439613"
      ]
     },
     "execution_count": 17,
     "metadata": {},
     "output_type": "execute_result"
    }
   ],
   "source": [
    "accuracy = balanced_accuracy_score(y_test, predictions)\n",
    "accuracy"
   ]
  },
  {
   "cell_type": "code",
   "execution_count": 18,
   "id": "5387e3ba-1c3d-4110-b3c8-4d225d9f621e",
   "metadata": {},
   "outputs": [
    {
     "data": {
      "text/plain": [
       "array([[ 8, 10],\n",
       "       [ 8, 15]], dtype=int64)"
      ]
     },
     "execution_count": 18,
     "metadata": {},
     "output_type": "execute_result"
    }
   ],
   "source": [
    "# Generate confusion matrix\n",
    "confusion_matrix(y_test, y_pred)"
   ]
  },
  {
   "cell_type": "code",
   "execution_count": 19,
   "id": "87a5330f-2ae0-458e-b00f-44ec3558d632",
   "metadata": {},
   "outputs": [
    {
     "name": "stdout",
     "output_type": "stream",
     "text": [
      "True Positive(TP) =  15\n",
      "False Positive(FP) =  10\n",
      "True Negative(TN) =  8\n",
      "False Negative(FN) =  8\n"
     ]
    }
   ],
   "source": [
    "TN, FP, FN, TP = confusion_matrix(y_test, y_pred).ravel()\n",
    "print('True Positive(TP) = ', TP)\n",
    "print('False Positive(FP) = ', FP)\n",
    "print('True Negative(TN) = ', TN)\n",
    "print('False Negative(FN) = ', FN)"
   ]
  },
  {
   "cell_type": "code",
   "execution_count": 20,
   "id": "7ccc3a32-a620-4277-b3dd-f2f261c0f70a",
   "metadata": {},
   "outputs": [
    {
     "name": "stdout",
     "output_type": "stream",
     "text": [
      "              precision    recall  f1-score   support\n",
      "\n",
      "           0       0.50      0.44      0.47        18\n",
      "           1       0.60      0.65      0.63        23\n",
      "\n",
      "    accuracy                           0.56        41\n",
      "   macro avg       0.55      0.55      0.55        41\n",
      "weighted avg       0.56      0.56      0.56        41\n",
      "\n"
     ]
    }
   ],
   "source": [
    "# Generate classificaiton report\n",
    "print(classification_report(y_test, y_pred))"
   ]
  },
  {
   "cell_type": "markdown",
   "id": "4ece4680-ac89-49fe-872d-544e31590f3a",
   "metadata": {
    "tags": []
   },
   "source": [
    "## Test Models Using List Indexing for Testing and Training Sets"
   ]
  },
  {
   "cell_type": "code",
   "execution_count": 21,
   "id": "51b7ce2f-dd25-41b5-bd27-15cd9e28a613",
   "metadata": {},
   "outputs": [],
   "source": [
    "#split into training and testing sets\n",
    "X_train = X.loc[:122]\n",
    "X_test = X.loc[123:]\n",
    "y_train = y.loc[:122]\n",
    "y_test = y.loc[123:]"
   ]
  },
  {
   "cell_type": "code",
   "execution_count": 39,
   "id": "bf863ad0-28f2-4dd1-95d7-184e76090684",
   "metadata": {},
   "outputs": [
    {
     "data": {
      "text/plain": [
       "W/L\n",
       "1      24\n",
       "0      16\n",
       "dtype: int64"
      ]
     },
     "execution_count": 39,
     "metadata": {},
     "output_type": "execute_result"
    }
   ],
   "source": [
    "#check testing targets for balance\n",
    "y_test.value_counts()"
   ]
  },
  {
   "cell_type": "markdown",
   "id": "56540542-42b0-42a5-aa74-3e93efe7c644",
   "metadata": {},
   "source": [
    "## Normalize Data Using StandardScaler"
   ]
  },
  {
   "cell_type": "code",
   "execution_count": 23,
   "id": "7be97c62-ba55-40bb-a159-8c6b976b1b8d",
   "metadata": {},
   "outputs": [],
   "source": [
    "# Create the StandardScaler instance\n",
    "scaler = StandardScaler()"
   ]
  },
  {
   "cell_type": "code",
   "execution_count": 24,
   "id": "586c87bc-c982-4452-82d1-1395c9629950",
   "metadata": {},
   "outputs": [],
   "source": [
    "# Fit the scaler to the features training dataset\n",
    "X_scaler = scaler.fit(X_train)\n",
    "X_train_scaled = X_scaler.transform(X_train)\n",
    "X_test_scaled = X_scaler.transform(X_test)"
   ]
  },
  {
   "cell_type": "markdown",
   "id": "de6bf8d5-a018-49eb-8666-1687d0cc7968",
   "metadata": {},
   "source": [
    "## Logistic Regression Model"
   ]
  },
  {
   "cell_type": "code",
   "execution_count": 25,
   "id": "77cccea1-a6e0-45f5-a4cc-31700fc0897b",
   "metadata": {},
   "outputs": [],
   "source": [
    "# Instantiate the Logistic Regression Model w/ random_state = 1\n",
    "model = LogisticRegression(random_state=1)\n",
    "\n",
    "# Fit the model using training data\n",
    "lr_model = model.fit(X_train_scaled, y_train)"
   ]
  },
  {
   "cell_type": "code",
   "execution_count": 26,
   "id": "ccfc3f54-b5c2-46ac-b000-d86a023035ba",
   "metadata": {},
   "outputs": [],
   "source": [
    "# Make predictions using testing data\n",
    "y_pred = lr_model.predict(X_test_scaled)"
   ]
  },
  {
   "cell_type": "markdown",
   "id": "ef50d1b3-46a6-47bf-b7cb-2bcbc13ea178",
   "metadata": {},
   "source": [
    "### Evaluation Metrics"
   ]
  },
  {
   "cell_type": "code",
   "execution_count": 27,
   "id": "1663b394-b5fb-4c7c-a13b-3d92bb0aaf59",
   "metadata": {},
   "outputs": [
    {
     "name": "stdout",
     "output_type": "stream",
     "text": [
      "0.5416666666666667\n"
     ]
    }
   ],
   "source": [
    "#accuracy score\n",
    "print(balanced_accuracy_score(y_test, y_pred))"
   ]
  },
  {
   "cell_type": "code",
   "execution_count": 28,
   "id": "a7eafa73-ea39-4ea3-8bc6-2cea91e73a2c",
   "metadata": {},
   "outputs": [
    {
     "data": {
      "text/plain": [
       "array([[ 2, 14],\n",
       "       [ 1, 23]], dtype=int64)"
      ]
     },
     "execution_count": 28,
     "metadata": {},
     "output_type": "execute_result"
    }
   ],
   "source": [
    "# Generate confusion matrix\n",
    "confusion_matrix(y_test, y_pred)"
   ]
  },
  {
   "cell_type": "code",
   "execution_count": 29,
   "id": "3e491f8f-5faa-4430-88ef-731788fc4745",
   "metadata": {},
   "outputs": [
    {
     "name": "stdout",
     "output_type": "stream",
     "text": [
      "True Positive(TP) =  23\n",
      "False Positive(FP) =  14\n",
      "True Negative(TN) =  2\n",
      "False Negative(FN) =  1\n"
     ]
    }
   ],
   "source": [
    "#print results of confusion matrix\n",
    "TN, FP, FN, TP = confusion_matrix(y_test, y_pred).ravel()\n",
    "print('True Positive(TP) = ', TP)\n",
    "print('False Positive(FP) = ', FP)\n",
    "print('True Negative(TN) = ', TN)\n",
    "print('False Negative(FN) = ', FN)"
   ]
  },
  {
   "cell_type": "code",
   "execution_count": 30,
   "id": "b9163aa3-676e-4234-a3f6-6e282b90736d",
   "metadata": {},
   "outputs": [
    {
     "name": "stdout",
     "output_type": "stream",
     "text": [
      "              precision    recall  f1-score   support\n",
      "\n",
      "           0       0.67      0.12      0.21        16\n",
      "           1       0.62      0.96      0.75        24\n",
      "\n",
      "    accuracy                           0.62        40\n",
      "   macro avg       0.64      0.54      0.48        40\n",
      "weighted avg       0.64      0.62      0.54        40\n",
      "\n"
     ]
    }
   ],
   "source": [
    "# Generate classificaiton report\n",
    "print(classification_report(y_test, y_pred))"
   ]
  },
  {
   "cell_type": "markdown",
   "id": "eabc5aaa-0583-43a9-888d-55fc0af6c752",
   "metadata": {},
   "source": [
    "## XGBoost Model"
   ]
  },
  {
   "cell_type": "code",
   "execution_count": 31,
   "id": "a1cefbf0-984c-449f-8ad6-6303f2c257b2",
   "metadata": {},
   "outputs": [],
   "source": [
    "# Instantiate XGBoost Model w/ random_state = 1\n",
    "model = XGBClassifier(random_state=1)"
   ]
  },
  {
   "cell_type": "code",
   "execution_count": 32,
   "id": "92a60d9a-eab7-4f8a-9c85-ab61e2f6a91c",
   "metadata": {},
   "outputs": [
    {
     "name": "stdout",
     "output_type": "stream",
     "text": [
      "[16:06:40] WARNING: C:\\Windows\\Temp\\abs_557yfx631l\\croots\\recipe\\xgboost-split_1659548953302\\work\\src\\learner.cc:1115: Starting in XGBoost 1.3.0, the default evaluation metric used with the objective 'binary:logistic' was changed from 'error' to 'logloss'. Explicitly set eval_metric if you'd like to restore the old behavior.\n"
     ]
    }
   ],
   "source": [
    "# Fit the model using the scaled training data\n",
    "XGBModel = model.fit(X_train_scaled, y_train)"
   ]
  },
  {
   "cell_type": "code",
   "execution_count": 33,
   "id": "473c2d09-be9b-484e-b538-82a404d6a01a",
   "metadata": {},
   "outputs": [],
   "source": [
    "# Make predictions for test data\n",
    "y_pred = XGBModel.predict(X_test_scaled)\n",
    "\n",
    "# convert prediction percentages to binary\n",
    "predictions = [round(value) for value in y_pred]"
   ]
  },
  {
   "cell_type": "markdown",
   "id": "6e0d7cf5-96c9-4436-a1b2-7cc0f397000c",
   "metadata": {},
   "source": [
    "### Evaluation Metrics"
   ]
  },
  {
   "cell_type": "code",
   "execution_count": 34,
   "id": "f0f5732a-3806-4a77-a845-d01c7de0495e",
   "metadata": {},
   "outputs": [
    {
     "data": {
      "text/plain": [
       "0.4791666666666667"
      ]
     },
     "execution_count": 34,
     "metadata": {},
     "output_type": "execute_result"
    }
   ],
   "source": [
    "accuracy = balanced_accuracy_score(y_test, predictions)\n",
    "accuracy"
   ]
  },
  {
   "cell_type": "code",
   "execution_count": 35,
   "id": "a2d003f3-9649-4425-9f8e-9cedd7d032c7",
   "metadata": {},
   "outputs": [
    {
     "data": {
      "text/plain": [
       "array([[ 0, 16],\n",
       "       [ 1, 23]], dtype=int64)"
      ]
     },
     "execution_count": 35,
     "metadata": {},
     "output_type": "execute_result"
    }
   ],
   "source": [
    "# Generate confusion matrix\n",
    "confusion_matrix(y_test, y_pred)"
   ]
  },
  {
   "cell_type": "code",
   "execution_count": 36,
   "id": "5dfd84d6-2a65-4a90-ba5c-234b4aac1497",
   "metadata": {},
   "outputs": [
    {
     "name": "stdout",
     "output_type": "stream",
     "text": [
      "True Positive(TP) =  23\n",
      "False Positive(FP) =  16\n",
      "True Negative(TN) =  0\n",
      "False Negative(FN) =  1\n"
     ]
    }
   ],
   "source": [
    "TN, FP, FN, TP = confusion_matrix(y_test, y_pred).ravel()\n",
    "print('True Positive(TP) = ', TP)\n",
    "print('False Positive(FP) = ', FP)\n",
    "print('True Negative(TN) = ', TN)\n",
    "print('False Negative(FN) = ', FN)"
   ]
  },
  {
   "cell_type": "code",
   "execution_count": 37,
   "id": "98479b6d-fc7f-468f-89d7-9465cb105171",
   "metadata": {},
   "outputs": [
    {
     "name": "stdout",
     "output_type": "stream",
     "text": [
      "              precision    recall  f1-score   support\n",
      "\n",
      "           0       0.00      0.00      0.00        16\n",
      "           1       0.59      0.96      0.73        24\n",
      "\n",
      "    accuracy                           0.57        40\n",
      "   macro avg       0.29      0.48      0.37        40\n",
      "weighted avg       0.35      0.57      0.44        40\n",
      "\n"
     ]
    }
   ],
   "source": [
    "# Generate classificaiton report\n",
    "print(classification_report(y_test, y_pred))"
   ]
  },
  {
   "cell_type": "code",
   "execution_count": null,
   "id": "7230d784-f416-4978-aa25-428a7bd95c34",
   "metadata": {},
   "outputs": [],
   "source": []
  }
 ],
 "metadata": {
  "kernelspec": {
   "display_name": "Python 3 (ipykernel)",
   "language": "python",
   "name": "python3"
  },
  "language_info": {
   "codemirror_mode": {
    "name": "ipython",
    "version": 3
   },
   "file_extension": ".py",
   "mimetype": "text/x-python",
   "name": "python",
   "nbconvert_exporter": "python",
   "pygments_lexer": "ipython3",
   "version": "3.7.13"
  }
 },
 "nbformat": 4,
 "nbformat_minor": 5
}
